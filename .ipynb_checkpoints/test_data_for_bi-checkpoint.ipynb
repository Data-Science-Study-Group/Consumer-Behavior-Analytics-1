{
 "cells": [
  {
   "cell_type": "code",
   "execution_count": 1,
   "metadata": {
    "collapsed": true
   },
   "outputs": [],
   "source": [
    "# Import dependencies\n",
    "import sqlite3\n",
    "import pandas as pd\n",
    "import numpy as np\n",
    "from numpy import nan"
   ]
  },
  {
   "cell_type": "code",
   "execution_count": 2,
   "metadata": {
    "collapsed": true
   },
   "outputs": [],
   "source": [
    "# Connect to database\n",
    "conn = sqlite3.connect('database.sqlite')"
   ]
  },
  {
   "cell_type": "code",
   "execution_count": 3,
   "metadata": {},
   "outputs": [
    {
     "data": {
      "text/html": [
       "<div>\n",
       "<style>\n",
       "    .dataframe thead tr:only-child th {\n",
       "        text-align: right;\n",
       "    }\n",
       "\n",
       "    .dataframe thead th {\n",
       "        text-align: left;\n",
       "    }\n",
       "\n",
       "    .dataframe tbody tr th {\n",
       "        vertical-align: top;\n",
       "    }\n",
       "</style>\n",
       "<table border=\"1\" class=\"dataframe\">\n",
       "  <thead>\n",
       "    <tr style=\"text-align: right;\">\n",
       "      <th></th>\n",
       "      <th>category</th>\n",
       "      <th>gender</th>\n",
       "      <th>age</th>\n",
       "      <th>year</th>\n",
       "      <th>division</th>\n",
       "      <th>population</th>\n",
       "    </tr>\n",
       "  </thead>\n",
       "  <tbody>\n",
       "    <tr>\n",
       "      <th>0</th>\n",
       "      <td>video_game</td>\n",
       "      <td>Male</td>\n",
       "      <td>18-24</td>\n",
       "      <td>2013</td>\n",
       "      <td>east_central</td>\n",
       "      <td>26</td>\n",
       "    </tr>\n",
       "    <tr>\n",
       "      <th>1</th>\n",
       "      <td>video_game</td>\n",
       "      <td>Male</td>\n",
       "      <td>18-24</td>\n",
       "      <td>2013</td>\n",
       "      <td>pacific</td>\n",
       "      <td>62</td>\n",
       "    </tr>\n",
       "    <tr>\n",
       "      <th>2</th>\n",
       "      <td>video_game</td>\n",
       "      <td>Male</td>\n",
       "      <td>18-24</td>\n",
       "      <td>2013</td>\n",
       "      <td>south</td>\n",
       "      <td>61</td>\n",
       "    </tr>\n",
       "    <tr>\n",
       "      <th>3</th>\n",
       "      <td>video_game</td>\n",
       "      <td>Male</td>\n",
       "      <td>18-24</td>\n",
       "      <td>2013</td>\n",
       "      <td>south_east</td>\n",
       "      <td>23</td>\n",
       "    </tr>\n",
       "    <tr>\n",
       "      <th>4</th>\n",
       "      <td>video_game</td>\n",
       "      <td>Male</td>\n",
       "      <td>18-24</td>\n",
       "      <td>2013</td>\n",
       "      <td>south_west</td>\n",
       "      <td>38</td>\n",
       "    </tr>\n",
       "  </tbody>\n",
       "</table>\n",
       "</div>"
      ],
      "text/plain": [
       "     category gender    age  year      division  population\n",
       "0  video_game   Male  18-24  2013  east_central          26\n",
       "1  video_game   Male  18-24  2013       pacific          62\n",
       "2  video_game   Male  18-24  2013         south          61\n",
       "3  video_game   Male  18-24  2013    south_east          23\n",
       "4  video_game   Male  18-24  2013    south_west          38"
      ]
     },
     "execution_count": 3,
     "metadata": {},
     "output_type": "execute_result"
    }
   ],
   "source": [
    "# Read sqlite query results into a pandas DataFrame\n",
    "test_df = pd.read_sql_query(\"\"\"\n",
    "SELECT \n",
    "*\n",
    "FROM east_central_table\n",
    "\n",
    "where category not in ('totals')\n",
    "\n",
    "union\n",
    "\n",
    "SELECT \n",
    "*\n",
    "FROM north_east_table\n",
    "\n",
    "where category not in ('totals')\n",
    "\n",
    "union\n",
    "\n",
    "SELECT \n",
    "*\n",
    "FROM pacific_table\n",
    "\n",
    "where category not in ('totals')\n",
    "\n",
    "union\n",
    "\n",
    "SELECT \n",
    "*\n",
    "FROM south_table\n",
    "\n",
    "where category not in ('totals')\n",
    "\n",
    "union\n",
    "\n",
    "SELECT \n",
    "*\n",
    "FROM south_east_table\n",
    "\n",
    "where category not in ('totals')\n",
    "\n",
    "union\n",
    "\n",
    "SELECT \n",
    "*\n",
    "FROM south_west_table\n",
    "\n",
    "where category not in ('totals')\n",
    "\n",
    "union\n",
    "\n",
    "SELECT \n",
    "*\n",
    "FROM west_central_table\n",
    "\n",
    "where category not in ('totals')\n",
    "\n",
    "\"\"\",conn)\n",
    "\n",
    "# Drop na and first 3 columns\n",
    "test_df = test_df.drop(test_df.columns[[0]], axis=1)\n",
    "\n",
    "test_df.head()"
   ]
  },
  {
   "cell_type": "code",
   "execution_count": 4,
   "metadata": {
    "collapsed": true
   },
   "outputs": [],
   "source": [
    "# Save clean data to csv\n",
    "test_df.to_csv('test_data/test_data.csv', index = False)"
   ]
  }
 ],
 "metadata": {
  "kernelspec": {
   "display_name": "Python 3",
   "language": "python",
   "name": "python3"
  },
  "language_info": {
   "codemirror_mode": {
    "name": "ipython",
    "version": 3
   },
   "file_extension": ".py",
   "mimetype": "text/x-python",
   "name": "python",
   "nbconvert_exporter": "python",
   "pygments_lexer": "ipython3",
   "version": "3.6.3"
  }
 },
 "nbformat": 4,
 "nbformat_minor": 2
}
