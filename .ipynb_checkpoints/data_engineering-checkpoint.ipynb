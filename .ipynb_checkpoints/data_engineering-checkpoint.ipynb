{
 "cells": [
  {
   "cell_type": "code",
   "execution_count": 1,
   "metadata": {
    "collapsed": true
   },
   "outputs": [],
   "source": [
    "# Ddd dependencies\n",
    "import pandas as pd\n",
    "import numpy as np"
   ]
  },
  {
   "cell_type": "markdown",
   "metadata": {},
   "source": [
    "# Create Combine Data Frame for East Central Division 2013 - 2017"
   ]
  },
  {
   "cell_type": "code",
   "execution_count": 5,
   "metadata": {},
   "outputs": [
    {
     "data": {
      "text/html": [
       "<div>\n",
       "<style>\n",
       "    .dataframe thead tr:only-child th {\n",
       "        text-align: right;\n",
       "    }\n",
       "\n",
       "    .dataframe thead th {\n",
       "        text-align: left;\n",
       "    }\n",
       "\n",
       "    .dataframe tbody tr th {\n",
       "        vertical-align: top;\n",
       "    }\n",
       "</style>\n",
       "<table border=\"1\" class=\"dataframe\">\n",
       "  <thead>\n",
       "    <tr style=\"text-align: right;\">\n",
       "      <th></th>\n",
       "      <th>Category</th>\n",
       "      <th>Gender</th>\n",
       "      <th>Age</th>\n",
       "      <th>Year</th>\n",
       "      <th>Division</th>\n",
       "      <th>Population</th>\n",
       "    </tr>\n",
       "  </thead>\n",
       "  <tbody>\n",
       "  </tbody>\n",
       "</table>\n",
       "</div>"
      ],
      "text/plain": [
       "Empty DataFrame\n",
       "Columns: [Category, Gender, Age, Year, Division, Population]\n",
       "Index: []"
      ]
     },
     "execution_count": 5,
     "metadata": {},
     "output_type": "execute_result"
    }
   ],
   "source": [
    "# Creat header\n",
    "clean_data_ec = pd.DataFrame(columns=['Category','Gender','Age','Year','Division','Population'])\n",
    "\n",
    "clean_data_ec"
   ]
  },
  {
   "cell_type": "code",
   "execution_count": null,
   "metadata": {
    "collapsed": true
   },
   "outputs": [],
   "source": [
    "for year in [2013,2014,2015,2016,2017]:\n",
    "    raw_data = pd.read_csv(\"raw_data/East Central Data/Movie Purchaser Behavior EC {}.csv\".format(year),skiprows=1)\n",
    "    df = pd.DataFrame(raw_data)\n",
    "    \n",
    "    df = df.dropna().drop(df.columns[[1, 2, 3]], axis=1)\n",
    "    # print(df.head(3))\n",
    "    # replace ' ' in category names with \"_\"\n",
    "    cat = list(i.strip().replace(' ','_').lower() for i in list(df.iloc[:,0]))\n",
    "    # print(\"{} cat: {}\".format(year,cat))\n",
    "\n",
    "    # population for each category\n",
    "    pop_list = []\n",
    "    for index, row in df.iterrows():\n",
    "        pop_list += [int(row[5])] + [int(row[8])]\\\n",
    "                    + [int(row[11])] + [int(row[14])]\\\n",
    "                    + [int(row[17])]+ [int(row[6])]\\\n",
    "                    + [int(row[9])] + [int(row[12])]\\\n",
    "                    + [int(row[15])]+ [int(row[18])]\n",
    "\n",
    "    # clean data table\n",
    "    clean_df = pd.DataFrame(columns=['Category','Gender','Age','Year','Division','Population'])\n",
    "    cat_list = []\n",
    "    for i in cat:\n",
    "        cat_list += [i]*10\n",
    "    clean_df[\"Category\"] = cat_list\n",
    "    clean_df['Gender'] = (['Male']*5+['Female']*5)*len(cat)\n",
    "    clean_df['Age'] = ['28-24','25-34','35-44','45-54','55+']*2*len(cat)\n",
    "    clean_df['Year'] = [year]*len(cat)*10\n",
    "    clean_df['Division'] = ['Central East']*len(cat)*10\n",
    "    clean_df['Population'] = pop_list\n",
    "    clean_data_ec = pd.concat([clean_data_ec,clean_df], ignore_index=True)\n",
    "    print (\"finish {}\".format(year))\n",
    "clean_data_ec"
   ]
  },
  {
   "cell_type": "code",
   "execution_count": 3,
   "metadata": {
    "collapsed": true
   },
   "outputs": [],
   "source": [
    "clean_data_ec.to_csv('clean_all_year_EC_withCAT.csv', index = False)"
   ]
  },
  {
   "cell_type": "code",
   "execution_count": 5,
   "metadata": {},
   "outputs": [
    {
     "data": {
      "text/plain": [
       "{'all_live_theater/concerts/dance-attended_last_12_months': '8',\n",
       " 'digital_music': '10',\n",
       " 'magazine': '4',\n",
       " 'movie_goers': '5',\n",
       " 'radio': '3',\n",
       " 'social_media_[social_media_user]': '9',\n",
       " 'streaming_video': '11',\n",
       " 'supermarket_goer_last_4_weeks': '6',\n",
       " 'tablet_owner': '7',\n",
       " 'totals': '0',\n",
       " 'tv': '2',\n",
       " 'video_game': '1'}"
      ]
     },
     "execution_count": 5,
     "metadata": {},
     "output_type": "execute_result"
    }
   ],
   "source": [
    "# convert category names to index\n",
    "cat_list = list(clean_data_ec.Category.unique())\n",
    "cat_dict = dict(zip(cat_list,[str(i) for i in range(0,len(cat_list))]))\n",
    "cat_dict"
   ]
  },
  {
   "cell_type": "code",
   "execution_count": 6,
   "metadata": {
    "collapsed": true
   },
   "outputs": [],
   "source": [
    "for index, row in clean_data_ec.iterrows():\n",
    "    row[0] = cat_dict[row[0]]"
   ]
  },
  {
   "cell_type": "code",
   "execution_count": 7,
   "metadata": {
    "collapsed": true
   },
   "outputs": [],
   "source": [
    "clean_data_ec.to_csv('clean_all_year_EC_withIndex.csv', index = False)"
   ]
  }
 ],
 "metadata": {
  "kernelspec": {
   "display_name": "Python 3",
   "language": "python",
   "name": "python3"
  },
  "language_info": {
   "codemirror_mode": {
    "name": "ipython",
    "version": 3
   },
   "file_extension": ".py",
   "mimetype": "text/x-python",
   "name": "python",
   "nbconvert_exporter": "python",
   "pygments_lexer": "ipython3",
   "version": "3.6.3"
  }
 },
 "nbformat": 4,
 "nbformat_minor": 2
}
