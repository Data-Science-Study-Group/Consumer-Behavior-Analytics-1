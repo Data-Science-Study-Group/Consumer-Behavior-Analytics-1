{
 "cells": [
  {
   "cell_type": "code",
   "execution_count": 1,
   "metadata": {
    "collapsed": true
   },
   "outputs": [],
   "source": [
    "# Import dependencies\n",
    "import sqlite3\n",
    "import pandas as pd\n",
    "import numpy as np\n",
    "from numpy import nan"
   ]
  },
  {
   "cell_type": "code",
   "execution_count": 2,
   "metadata": {
    "collapsed": true
   },
   "outputs": [],
   "source": [
    "# Connect to database\n",
    "conn = sqlite3.connect('database.sqlite')"
   ]
  },
  {
   "cell_type": "code",
   "execution_count": 3,
   "metadata": {},
   "outputs": [
    {
     "data": {
      "text/html": [
       "<div>\n",
       "<style>\n",
       "    .dataframe thead tr:only-child th {\n",
       "        text-align: right;\n",
       "    }\n",
       "\n",
       "    .dataframe thead th {\n",
       "        text-align: left;\n",
       "    }\n",
       "\n",
       "    .dataframe tbody tr th {\n",
       "        vertical-align: top;\n",
       "    }\n",
       "</style>\n",
       "<table border=\"1\" class=\"dataframe\">\n",
       "  <thead>\n",
       "    <tr style=\"text-align: right;\">\n",
       "      <th></th>\n",
       "      <th>index</th>\n",
       "      <th>State</th>\n",
       "      <th>Latitude</th>\n",
       "      <th>Longitude</th>\n",
       "      <th>City</th>\n",
       "    </tr>\n",
       "  </thead>\n",
       "  <tbody>\n",
       "    <tr>\n",
       "      <th>0</th>\n",
       "      <td>0</td>\n",
       "      <td>AL</td>\n",
       "      <td>32.601011</td>\n",
       "      <td>-86.680736</td>\n",
       "      <td>Alabama</td>\n",
       "    </tr>\n",
       "    <tr>\n",
       "      <th>1</th>\n",
       "      <td>1</td>\n",
       "      <td>AK</td>\n",
       "      <td>61.302501</td>\n",
       "      <td>-158.775020</td>\n",
       "      <td>Alaska</td>\n",
       "    </tr>\n",
       "    <tr>\n",
       "      <th>2</th>\n",
       "      <td>2</td>\n",
       "      <td>AZ</td>\n",
       "      <td>34.168219</td>\n",
       "      <td>-111.930907</td>\n",
       "      <td>Arizona</td>\n",
       "    </tr>\n",
       "    <tr>\n",
       "      <th>3</th>\n",
       "      <td>3</td>\n",
       "      <td>AR</td>\n",
       "      <td>34.751928</td>\n",
       "      <td>-92.131378</td>\n",
       "      <td>Arkansas</td>\n",
       "    </tr>\n",
       "    <tr>\n",
       "      <th>4</th>\n",
       "      <td>4</td>\n",
       "      <td>CA</td>\n",
       "      <td>37.271875</td>\n",
       "      <td>-119.270415</td>\n",
       "      <td>California</td>\n",
       "    </tr>\n",
       "  </tbody>\n",
       "</table>\n",
       "</div>"
      ],
      "text/plain": [
       "   index State   Latitude   Longitude        City\n",
       "0      0    AL  32.601011  -86.680736     Alabama\n",
       "1      1    AK  61.302501 -158.775020      Alaska\n",
       "2      2    AZ  34.168219 -111.930907     Arizona\n",
       "3      3    AR  34.751928  -92.131378    Arkansas\n",
       "4      4    CA  37.271875 -119.270415  California"
      ]
     },
     "execution_count": 3,
     "metadata": {},
     "output_type": "execute_result"
    }
   ],
   "source": [
    "# Read sqlite query results into a pandas DataFrame\n",
    "coordinate_df = pd.read_sql_query('SELECT * from coordinate_table',conn)\n",
    "coordinate_df.head()"
   ]
  },
  {
   "cell_type": "markdown",
   "metadata": {},
   "source": [
    "# Northeast Center Coordinates"
   ]
  },
  {
   "cell_type": "code",
   "execution_count": 4,
   "metadata": {},
   "outputs": [
    {
     "data": {
      "text/html": [
       "<div>\n",
       "<style>\n",
       "    .dataframe thead tr:only-child th {\n",
       "        text-align: right;\n",
       "    }\n",
       "\n",
       "    .dataframe thead th {\n",
       "        text-align: left;\n",
       "    }\n",
       "\n",
       "    .dataframe tbody tr th {\n",
       "        vertical-align: top;\n",
       "    }\n",
       "</style>\n",
       "<table border=\"1\" class=\"dataframe\">\n",
       "  <thead>\n",
       "    <tr style=\"text-align: right;\">\n",
       "      <th></th>\n",
       "      <th>division</th>\n",
       "      <th>Latitude</th>\n",
       "      <th>Longitude</th>\n",
       "    </tr>\n",
       "  </thead>\n",
       "  <tbody>\n",
       "    <tr>\n",
       "      <th>0</th>\n",
       "      <td>northeast</td>\n",
       "      <td>42.233242</td>\n",
       "      <td>-72.815566</td>\n",
       "    </tr>\n",
       "  </tbody>\n",
       "</table>\n",
       "</div>"
      ],
      "text/plain": [
       "    division   Latitude  Longitude\n",
       "0  northeast  42.233242 -72.815566"
      ]
     },
     "execution_count": 4,
     "metadata": {},
     "output_type": "execute_result"
    }
   ],
   "source": [
    "# Read sqlite query results into a pandas DataFrame\n",
    "ne_df = pd.read_sql_query(\"\"\"SELECT\n",
    "'northeast' as division,\n",
    "AVG(Latitude) as Latitude,\n",
    "AVG(Longitude) as Longitude\n",
    "\n",
    "from coordinate_table\n",
    "\n",
    "where State in ('CT', 'ME', 'MA', 'NH', 'RI', 'VT', 'NJ', 'NY', 'PA')\n",
    "\"\"\",conn);\n",
    "\n",
    "ne_df"
   ]
  },
  {
   "cell_type": "markdown",
   "metadata": {},
   "source": [
    "# Midwest Center Coordinates"
   ]
  },
  {
   "cell_type": "code",
   "execution_count": 5,
   "metadata": {},
   "outputs": [
    {
     "data": {
      "text/html": [
       "<div>\n",
       "<style>\n",
       "    .dataframe thead tr:only-child th {\n",
       "        text-align: right;\n",
       "    }\n",
       "\n",
       "    .dataframe thead th {\n",
       "        text-align: left;\n",
       "    }\n",
       "\n",
       "    .dataframe tbody tr th {\n",
       "        vertical-align: top;\n",
       "    }\n",
       "</style>\n",
       "<table border=\"1\" class=\"dataframe\">\n",
       "  <thead>\n",
       "    <tr style=\"text-align: right;\">\n",
       "      <th></th>\n",
       "      <th>division</th>\n",
       "      <th>Latitude</th>\n",
       "      <th>Longitude</th>\n",
       "    </tr>\n",
       "  </thead>\n",
       "  <tbody>\n",
       "    <tr>\n",
       "      <th>0</th>\n",
       "      <td>midwest</td>\n",
       "      <td>41.839268</td>\n",
       "      <td>-92.503343</td>\n",
       "    </tr>\n",
       "  </tbody>\n",
       "</table>\n",
       "</div>"
      ],
      "text/plain": [
       "  division   Latitude  Longitude\n",
       "0  midwest  41.839268 -92.503343"
      ]
     },
     "execution_count": 5,
     "metadata": {},
     "output_type": "execute_result"
    }
   ],
   "source": [
    "# Read sqlite query results into a pandas DataFrame\n",
    "mw_df = pd.read_sql_query(\"\"\"SELECT\n",
    "'midwest' as division,\n",
    "AVG(Latitude) as Latitude,\n",
    "AVG(Longitude) as Longitude\n",
    "\n",
    "from coordinate_table\n",
    "\n",
    "where State in ('IL', 'IN', 'MI', 'OH', 'WI', 'IA', 'KS', 'MN', 'MS', 'NE', 'ND', 'SD')\n",
    "\"\"\",conn);\n",
    "\n",
    "mw_df"
   ]
  },
  {
   "cell_type": "markdown",
   "metadata": {},
   "source": [
    "# South Center Coordinates"
   ]
  },
  {
   "cell_type": "code",
   "execution_count": 6,
   "metadata": {},
   "outputs": [
    {
     "data": {
      "text/html": [
       "<div>\n",
       "<style>\n",
       "    .dataframe thead tr:only-child th {\n",
       "        text-align: right;\n",
       "    }\n",
       "\n",
       "    .dataframe thead th {\n",
       "        text-align: left;\n",
       "    }\n",
       "\n",
       "    .dataframe tbody tr th {\n",
       "        vertical-align: top;\n",
       "    }\n",
       "</style>\n",
       "<table border=\"1\" class=\"dataframe\">\n",
       "  <thead>\n",
       "    <tr style=\"text-align: right;\">\n",
       "      <th></th>\n",
       "      <th>division</th>\n",
       "      <th>Latitude</th>\n",
       "      <th>Longitude</th>\n",
       "    </tr>\n",
       "  </thead>\n",
       "  <tbody>\n",
       "    <tr>\n",
       "      <th>0</th>\n",
       "      <td>south</td>\n",
       "      <td>34.959489</td>\n",
       "      <td>-85.170362</td>\n",
       "    </tr>\n",
       "  </tbody>\n",
       "</table>\n",
       "</div>"
      ],
      "text/plain": [
       "  division   Latitude  Longitude\n",
       "0    south  34.959489 -85.170362"
      ]
     },
     "execution_count": 6,
     "metadata": {},
     "output_type": "execute_result"
    }
   ],
   "source": [
    "# Read sqlite query results into a pandas DataFrame\n",
    "s_df = pd.read_sql_query(\"\"\"SELECT\n",
    "'south' as division,\n",
    "AVG(Latitude) as Latitude,\n",
    "AVG(Longitude) as Longitude\n",
    "\n",
    "from coordinate_table\n",
    "\n",
    "where State in ('DE', 'FL', 'GA', 'MD', 'NC', 'SC', 'VA', 'DC', 'WV', 'AL', 'KY', 'MS', 'TN', 'AR', 'LA', 'OK', 'TX')\n",
    "\"\"\",conn);\n",
    "\n",
    "s_df"
   ]
  },
  {
   "cell_type": "markdown",
   "metadata": {},
   "source": [
    "# West Center Coordinates"
   ]
  },
  {
   "cell_type": "code",
   "execution_count": 7,
   "metadata": {},
   "outputs": [
    {
     "data": {
      "text/html": [
       "<div>\n",
       "<style>\n",
       "    .dataframe thead tr:only-child th {\n",
       "        text-align: right;\n",
       "    }\n",
       "\n",
       "    .dataframe thead th {\n",
       "        text-align: left;\n",
       "    }\n",
       "\n",
       "    .dataframe tbody tr th {\n",
       "        vertical-align: top;\n",
       "    }\n",
       "</style>\n",
       "<table border=\"1\" class=\"dataframe\">\n",
       "  <thead>\n",
       "    <tr style=\"text-align: right;\">\n",
       "      <th></th>\n",
       "      <th>division</th>\n",
       "      <th>Latitude</th>\n",
       "      <th>Longitude</th>\n",
       "    </tr>\n",
       "  </thead>\n",
       "  <tbody>\n",
       "    <tr>\n",
       "      <th>0</th>\n",
       "      <td>west</td>\n",
       "      <td>40.198808</td>\n",
       "      <td>-116.686347</td>\n",
       "    </tr>\n",
       "  </tbody>\n",
       "</table>\n",
       "</div>"
      ],
      "text/plain": [
       "  division   Latitude   Longitude\n",
       "0     west  40.198808 -116.686347"
      ]
     },
     "execution_count": 7,
     "metadata": {},
     "output_type": "execute_result"
    }
   ],
   "source": [
    "# Read sqlite query results into a pandas DataFrame\n",
    "wc_df = pd.read_sql_query(\"\"\"SELECT\n",
    "'west' as division,\n",
    "AVG(Latitude) as Latitude,\n",
    "AVG(Longitude) as Longitude\n",
    "\n",
    "from coordinate_table\n",
    "\n",
    "where State in ('AZ', 'CO', 'ID', 'MT', 'NV', 'NM', 'UT', 'WY', 'AK', 'CA', 'HI', 'OR', 'WA')\n",
    "\"\"\",conn);\n",
    "\n",
    "wc_df"
   ]
  },
  {
   "cell_type": "markdown",
   "metadata": {},
   "source": [
    "# Center Coordinate for Each Division"
   ]
  },
  {
   "cell_type": "code",
   "execution_count": 8,
   "metadata": {},
   "outputs": [
    {
     "data": {
      "text/html": [
       "<div>\n",
       "<style>\n",
       "    .dataframe thead tr:only-child th {\n",
       "        text-align: right;\n",
       "    }\n",
       "\n",
       "    .dataframe thead th {\n",
       "        text-align: left;\n",
       "    }\n",
       "\n",
       "    .dataframe tbody tr th {\n",
       "        vertical-align: top;\n",
       "    }\n",
       "</style>\n",
       "<table border=\"1\" class=\"dataframe\">\n",
       "  <thead>\n",
       "    <tr style=\"text-align: right;\">\n",
       "      <th></th>\n",
       "      <th>division</th>\n",
       "      <th>Latitude</th>\n",
       "      <th>Longitude</th>\n",
       "    </tr>\n",
       "  </thead>\n",
       "  <tbody>\n",
       "    <tr>\n",
       "      <th>0</th>\n",
       "      <td>midwest</td>\n",
       "      <td>41.839268</td>\n",
       "      <td>-92.503343</td>\n",
       "    </tr>\n",
       "    <tr>\n",
       "      <th>1</th>\n",
       "      <td>northeast</td>\n",
       "      <td>42.233242</td>\n",
       "      <td>-72.815566</td>\n",
       "    </tr>\n",
       "    <tr>\n",
       "      <th>2</th>\n",
       "      <td>south</td>\n",
       "      <td>34.959489</td>\n",
       "      <td>-85.170362</td>\n",
       "    </tr>\n",
       "    <tr>\n",
       "      <th>3</th>\n",
       "      <td>west</td>\n",
       "      <td>40.198808</td>\n",
       "      <td>-116.686347</td>\n",
       "    </tr>\n",
       "  </tbody>\n",
       "</table>\n",
       "</div>"
      ],
      "text/plain": [
       "    division   Latitude   Longitude\n",
       "0    midwest  41.839268  -92.503343\n",
       "1  northeast  42.233242  -72.815566\n",
       "2      south  34.959489  -85.170362\n",
       "3       west  40.198808 -116.686347"
      ]
     },
     "execution_count": 8,
     "metadata": {},
     "output_type": "execute_result"
    }
   ],
   "source": [
    "# Read sqlite query results into a pandas DataFrame\n",
    "us_div_coordinate_df = pd.read_sql_query(\"\"\"SELECT\n",
    "'northeast' as division,\n",
    "AVG(Latitude) as Latitude,\n",
    "AVG(Longitude) as Longitude\n",
    "\n",
    "from coordinate_table\n",
    "\n",
    "where State in ('CT', 'ME', 'MA', 'NH', 'RI', 'VT', 'NJ', 'NY', 'PA')\n",
    "\n",
    "union\n",
    "\n",
    "SELECT\n",
    "'midwest' as division,\n",
    "AVG(Latitude) as Latitude,\n",
    "AVG(Longitude) as Longitude\n",
    "\n",
    "from coordinate_table\n",
    "\n",
    "where State in ('IL', 'IN', 'MI', 'OH', 'WI', 'IA', 'KS', 'MN', 'MS', 'NE', 'ND', 'SD')\n",
    "\n",
    "union\n",
    "\n",
    "SELECT\n",
    "'south' as division,\n",
    "AVG(Latitude) as Latitude,\n",
    "AVG(Longitude) as Longitude\n",
    "\n",
    "from coordinate_table\n",
    "\n",
    "where State in ('DE', 'FL', 'GA', 'MD', 'NC', 'SC', 'VA', 'DC', 'WV', 'AL', 'KY', 'MS', 'TN', 'AR', 'LA', 'OK', 'TX')\n",
    "\n",
    "union\n",
    "\n",
    "SELECT\n",
    "'west' as division,\n",
    "AVG(Latitude) as Latitude,\n",
    "AVG(Longitude) as Longitude\n",
    "\n",
    "from coordinate_table\n",
    "\n",
    "where State in ('AZ', 'CO', 'ID', 'MT', 'NV', 'NM', 'UT', 'WY', 'AK', 'CA', 'HI', 'OR', 'WA')\n",
    "\n",
    "\n",
    "\"\"\",conn);\n",
    "\n",
    "us_div_coordinate_df"
   ]
  },
  {
   "cell_type": "markdown",
   "metadata": {},
   "source": [
    "# Load test1_table"
   ]
  },
  {
   "cell_type": "code",
   "execution_count": 9,
   "metadata": {},
   "outputs": [
    {
     "data": {
      "text/html": [
       "<div>\n",
       "<style>\n",
       "    .dataframe thead tr:only-child th {\n",
       "        text-align: right;\n",
       "    }\n",
       "\n",
       "    .dataframe thead th {\n",
       "        text-align: left;\n",
       "    }\n",
       "\n",
       "    .dataframe tbody tr th {\n",
       "        vertical-align: top;\n",
       "    }\n",
       "</style>\n",
       "<table border=\"1\" class=\"dataframe\">\n",
       "  <thead>\n",
       "    <tr style=\"text-align: right;\">\n",
       "      <th></th>\n",
       "      <th>index</th>\n",
       "      <th>category</th>\n",
       "      <th>gender</th>\n",
       "      <th>age</th>\n",
       "      <th>year</th>\n",
       "      <th>region</th>\n",
       "      <th>population</th>\n",
       "    </tr>\n",
       "  </thead>\n",
       "  <tbody>\n",
       "    <tr>\n",
       "      <th>0</th>\n",
       "      <td>0</td>\n",
       "      <td>TV</td>\n",
       "      <td>male</td>\n",
       "      <td>18-24</td>\n",
       "      <td>2013</td>\n",
       "      <td>northeast</td>\n",
       "      <td>5808930</td>\n",
       "    </tr>\n",
       "    <tr>\n",
       "      <th>1</th>\n",
       "      <td>1</td>\n",
       "      <td>TV</td>\n",
       "      <td>male</td>\n",
       "      <td>25-34</td>\n",
       "      <td>2013</td>\n",
       "      <td>northeast</td>\n",
       "      <td>8031355</td>\n",
       "    </tr>\n",
       "    <tr>\n",
       "      <th>2</th>\n",
       "      <td>2</td>\n",
       "      <td>TV</td>\n",
       "      <td>male</td>\n",
       "      <td>35-44</td>\n",
       "      <td>2013</td>\n",
       "      <td>northeast</td>\n",
       "      <td>8555839</td>\n",
       "    </tr>\n",
       "    <tr>\n",
       "      <th>3</th>\n",
       "      <td>3</td>\n",
       "      <td>TV</td>\n",
       "      <td>male</td>\n",
       "      <td>45-54</td>\n",
       "      <td>2013</td>\n",
       "      <td>northeast</td>\n",
       "      <td>7762506</td>\n",
       "    </tr>\n",
       "    <tr>\n",
       "      <th>4</th>\n",
       "      <td>4</td>\n",
       "      <td>TV</td>\n",
       "      <td>male</td>\n",
       "      <td>55+</td>\n",
       "      <td>2013</td>\n",
       "      <td>northeast</td>\n",
       "      <td>4188397</td>\n",
       "    </tr>\n",
       "  </tbody>\n",
       "</table>\n",
       "</div>"
      ],
      "text/plain": [
       "   index category gender    age  year     region  population\n",
       "0      0       TV   male  18-24  2013  northeast     5808930\n",
       "1      1       TV   male  25-34  2013  northeast     8031355\n",
       "2      2       TV   male  35-44  2013  northeast     8555839\n",
       "3      3       TV   male  45-54  2013  northeast     7762506\n",
       "4      4       TV   male    55+  2013  northeast     4188397"
      ]
     },
     "execution_count": 9,
     "metadata": {},
     "output_type": "execute_result"
    }
   ],
   "source": [
    "# Read sqlite query results into a pandas DataFrame\n",
    "test_df = pd.read_sql_query('SELECT * from test1_table',conn)\n",
    "test_df.head()"
   ]
  },
  {
   "cell_type": "code",
   "execution_count": 17,
   "metadata": {},
   "outputs": [
    {
     "data": {
      "text/html": [
       "<div>\n",
       "<style>\n",
       "    .dataframe thead tr:only-child th {\n",
       "        text-align: right;\n",
       "    }\n",
       "\n",
       "    .dataframe thead th {\n",
       "        text-align: left;\n",
       "    }\n",
       "\n",
       "    .dataframe tbody tr th {\n",
       "        vertical-align: top;\n",
       "    }\n",
       "</style>\n",
       "<table border=\"1\" class=\"dataframe\">\n",
       "  <thead>\n",
       "    <tr style=\"text-align: right;\">\n",
       "      <th></th>\n",
       "      <th>division</th>\n",
       "      <th>Latitude</th>\n",
       "      <th>Longitude</th>\n",
       "      <th>category</th>\n",
       "      <th>gender</th>\n",
       "      <th>age</th>\n",
       "      <th>year</th>\n",
       "      <th>population</th>\n",
       "    </tr>\n",
       "  </thead>\n",
       "  <tbody>\n",
       "    <tr>\n",
       "      <th>0</th>\n",
       "      <td>midwest</td>\n",
       "      <td>41.839268</td>\n",
       "      <td>-92.503343</td>\n",
       "      <td>TV</td>\n",
       "      <td>male</td>\n",
       "      <td>18-24</td>\n",
       "      <td>2013</td>\n",
       "      <td>12609544</td>\n",
       "    </tr>\n",
       "    <tr>\n",
       "      <th>1</th>\n",
       "      <td>midwest</td>\n",
       "      <td>41.839268</td>\n",
       "      <td>-92.503343</td>\n",
       "      <td>TV</td>\n",
       "      <td>male</td>\n",
       "      <td>25-34</td>\n",
       "      <td>2013</td>\n",
       "      <td>14207771</td>\n",
       "    </tr>\n",
       "    <tr>\n",
       "      <th>2</th>\n",
       "      <td>midwest</td>\n",
       "      <td>41.839268</td>\n",
       "      <td>-92.503343</td>\n",
       "      <td>TV</td>\n",
       "      <td>male</td>\n",
       "      <td>35-44</td>\n",
       "      <td>2013</td>\n",
       "      <td>8068669</td>\n",
       "    </tr>\n",
       "    <tr>\n",
       "      <th>3</th>\n",
       "      <td>midwest</td>\n",
       "      <td>41.839268</td>\n",
       "      <td>-92.503343</td>\n",
       "      <td>TV</td>\n",
       "      <td>male</td>\n",
       "      <td>45-54</td>\n",
       "      <td>2013</td>\n",
       "      <td>7706571</td>\n",
       "    </tr>\n",
       "    <tr>\n",
       "      <th>4</th>\n",
       "      <td>midwest</td>\n",
       "      <td>41.839268</td>\n",
       "      <td>-92.503343</td>\n",
       "      <td>TV</td>\n",
       "      <td>male</td>\n",
       "      <td>55+</td>\n",
       "      <td>2013</td>\n",
       "      <td>13947056</td>\n",
       "    </tr>\n",
       "  </tbody>\n",
       "</table>\n",
       "</div>"
      ],
      "text/plain": [
       "  division   Latitude  Longitude category gender    age  year  population\n",
       "0  midwest  41.839268 -92.503343       TV   male  18-24  2013    12609544\n",
       "1  midwest  41.839268 -92.503343       TV   male  25-34  2013    14207771\n",
       "2  midwest  41.839268 -92.503343       TV   male  35-44  2013     8068669\n",
       "3  midwest  41.839268 -92.503343       TV   male  45-54  2013     7706571\n",
       "4  midwest  41.839268 -92.503343       TV   male    55+  2013    13947056"
      ]
     },
     "execution_count": 17,
     "metadata": {},
     "output_type": "execute_result"
    }
   ],
   "source": [
    "test_complete_df = pd.merge(us_div_coordinate_df, test_df, how = 'left', left_on = 'division', right_on = 'region')\n",
    "\n",
    "test_complete_df = test_complete_df.drop(['index','region'],  axis=1)\n",
    "\n",
    "test_complete_df.head()"
   ]
  },
  {
   "cell_type": "code",
   "execution_count": 19,
   "metadata": {
    "collapsed": true
   },
   "outputs": [],
   "source": [
    "# Save data frame to csv\n",
    "test_complete_df.to_csv('clean_data/test_complete_data.csv')"
   ]
  }
 ],
 "metadata": {
  "kernelspec": {
   "display_name": "Python 3",
   "language": "python",
   "name": "python3"
  },
  "language_info": {
   "codemirror_mode": {
    "name": "ipython",
    "version": 3
   },
   "file_extension": ".py",
   "mimetype": "text/x-python",
   "name": "python",
   "nbconvert_exporter": "python",
   "pygments_lexer": "ipython3",
   "version": "3.6.3"
  }
 },
 "nbformat": 4,
 "nbformat_minor": 2
}
