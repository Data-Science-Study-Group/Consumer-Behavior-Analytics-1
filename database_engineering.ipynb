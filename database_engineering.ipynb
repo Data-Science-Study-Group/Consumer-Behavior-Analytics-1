{
 "cells": [
  {
   "cell_type": "code",
   "execution_count": 1,
   "metadata": {
    "collapsed": true
   },
   "outputs": [],
   "source": [
    "# Ddd dependencies\n",
    "import pandas as pd\n",
    "\n",
    "from sqlalchemy import create_engine\n",
    "from sqlalchemy.orm import Session\n",
    "from sqlalchemy.ext.declarative import declarative_base\n",
    "Base = declarative_base()\n",
    "\n",
    "from sqlalchemy import Column, Integer, String, Float, Date"
   ]
  },
  {
   "cell_type": "code",
   "execution_count": 5,
   "metadata": {
    "collapsed": true
   },
   "outputs": [],
   "source": [
    "# Load csv files\n",
    "dmgp_data = 'raw_data/demography.csv'\n",
    "coordinate_data = 'raw_data/statelatlong.csv'\n",
    "test_data = 'raw_data/test_data.csv'"
   ]
  },
  {
   "cell_type": "code",
   "execution_count": 6,
   "metadata": {},
   "outputs": [],
   "source": [
    "# Read Data File and store into Pandas Data Frames\n",
    "dmgp_df = pd.read_csv(dmgp_data)\n",
    "coordinate_df = pd.read_csv(coordinate_data)\n",
    "test_df = pd.read_csv(test_data)"
   ]
  },
  {
   "cell_type": "code",
   "execution_count": 4,
   "metadata": {},
   "outputs": [
    {
     "data": {
      "text/html": [
       "<div>\n",
       "<style>\n",
       "    .dataframe thead tr:only-child th {\n",
       "        text-align: right;\n",
       "    }\n",
       "\n",
       "    .dataframe thead th {\n",
       "        text-align: left;\n",
       "    }\n",
       "\n",
       "    .dataframe tbody tr th {\n",
       "        vertical-align: top;\n",
       "    }\n",
       "</style>\n",
       "<table border=\"1\" class=\"dataframe\">\n",
       "  <thead>\n",
       "    <tr style=\"text-align: right;\">\n",
       "      <th></th>\n",
       "      <th>Geography</th>\n",
       "      <th>Gender</th>\n",
       "      <th>age</th>\n",
       "      <th>population</th>\n",
       "    </tr>\n",
       "  </thead>\n",
       "  <tbody>\n",
       "    <tr>\n",
       "      <th>0</th>\n",
       "      <td>Alabama</td>\n",
       "      <td>male</td>\n",
       "      <td>Under_5_years</td>\n",
       "      <td>149374</td>\n",
       "    </tr>\n",
       "    <tr>\n",
       "      <th>1</th>\n",
       "      <td>Alabama</td>\n",
       "      <td>male</td>\n",
       "      <td>5_to_9_years</td>\n",
       "      <td>153526</td>\n",
       "    </tr>\n",
       "    <tr>\n",
       "      <th>2</th>\n",
       "      <td>Alabama</td>\n",
       "      <td>male</td>\n",
       "      <td>10_to_14_years</td>\n",
       "      <td>157478</td>\n",
       "    </tr>\n",
       "    <tr>\n",
       "      <th>3</th>\n",
       "      <td>Alabama</td>\n",
       "      <td>male</td>\n",
       "      <td>15_to_19_years</td>\n",
       "      <td>161735</td>\n",
       "    </tr>\n",
       "    <tr>\n",
       "      <th>4</th>\n",
       "      <td>Alabama</td>\n",
       "      <td>male</td>\n",
       "      <td>20_to_24_years</td>\n",
       "      <td>166366</td>\n",
       "    </tr>\n",
       "  </tbody>\n",
       "</table>\n",
       "</div>"
      ],
      "text/plain": [
       "  Geography Gender             age  population\n",
       "0   Alabama   male   Under_5_years      149374\n",
       "1   Alabama   male    5_to_9_years      153526\n",
       "2   Alabama   male  10_to_14_years      157478\n",
       "3   Alabama   male  15_to_19_years      161735\n",
       "4   Alabama   male  20_to_24_years      166366"
      ]
     },
     "execution_count": 4,
     "metadata": {},
     "output_type": "execute_result"
    }
   ],
   "source": [
    "dmgp_df.head()"
   ]
  },
  {
   "cell_type": "code",
   "execution_count": 5,
   "metadata": {},
   "outputs": [
    {
     "data": {
      "text/html": [
       "<div>\n",
       "<style>\n",
       "    .dataframe thead tr:only-child th {\n",
       "        text-align: right;\n",
       "    }\n",
       "\n",
       "    .dataframe thead th {\n",
       "        text-align: left;\n",
       "    }\n",
       "\n",
       "    .dataframe tbody tr th {\n",
       "        vertical-align: top;\n",
       "    }\n",
       "</style>\n",
       "<table border=\"1\" class=\"dataframe\">\n",
       "  <thead>\n",
       "    <tr style=\"text-align: right;\">\n",
       "      <th></th>\n",
       "      <th>State</th>\n",
       "      <th>Latitude</th>\n",
       "      <th>Longitude</th>\n",
       "      <th>City</th>\n",
       "    </tr>\n",
       "  </thead>\n",
       "  <tbody>\n",
       "    <tr>\n",
       "      <th>0</th>\n",
       "      <td>AL</td>\n",
       "      <td>32.601011</td>\n",
       "      <td>-86.680736</td>\n",
       "      <td>Alabama</td>\n",
       "    </tr>\n",
       "    <tr>\n",
       "      <th>1</th>\n",
       "      <td>AK</td>\n",
       "      <td>61.302501</td>\n",
       "      <td>-158.775020</td>\n",
       "      <td>Alaska</td>\n",
       "    </tr>\n",
       "    <tr>\n",
       "      <th>2</th>\n",
       "      <td>AZ</td>\n",
       "      <td>34.168219</td>\n",
       "      <td>-111.930907</td>\n",
       "      <td>Arizona</td>\n",
       "    </tr>\n",
       "    <tr>\n",
       "      <th>3</th>\n",
       "      <td>AR</td>\n",
       "      <td>34.751928</td>\n",
       "      <td>-92.131378</td>\n",
       "      <td>Arkansas</td>\n",
       "    </tr>\n",
       "    <tr>\n",
       "      <th>4</th>\n",
       "      <td>CA</td>\n",
       "      <td>37.271875</td>\n",
       "      <td>-119.270415</td>\n",
       "      <td>California</td>\n",
       "    </tr>\n",
       "  </tbody>\n",
       "</table>\n",
       "</div>"
      ],
      "text/plain": [
       "  State   Latitude   Longitude        City\n",
       "0    AL  32.601011  -86.680736     Alabama\n",
       "1    AK  61.302501 -158.775020      Alaska\n",
       "2    AZ  34.168219 -111.930907     Arizona\n",
       "3    AR  34.751928  -92.131378    Arkansas\n",
       "4    CA  37.271875 -119.270415  California"
      ]
     },
     "execution_count": 5,
     "metadata": {},
     "output_type": "execute_result"
    }
   ],
   "source": [
    "coordinate_df.head()"
   ]
  },
  {
   "cell_type": "code",
   "execution_count": 7,
   "metadata": {},
   "outputs": [
    {
     "data": {
      "text/html": [
       "<div>\n",
       "<style>\n",
       "    .dataframe thead tr:only-child th {\n",
       "        text-align: right;\n",
       "    }\n",
       "\n",
       "    .dataframe thead th {\n",
       "        text-align: left;\n",
       "    }\n",
       "\n",
       "    .dataframe tbody tr th {\n",
       "        vertical-align: top;\n",
       "    }\n",
       "</style>\n",
       "<table border=\"1\" class=\"dataframe\">\n",
       "  <thead>\n",
       "    <tr style=\"text-align: right;\">\n",
       "      <th></th>\n",
       "      <th>category</th>\n",
       "      <th>gender</th>\n",
       "      <th>age</th>\n",
       "      <th>year</th>\n",
       "      <th>region</th>\n",
       "      <th>population</th>\n",
       "    </tr>\n",
       "  </thead>\n",
       "  <tbody>\n",
       "    <tr>\n",
       "      <th>0</th>\n",
       "      <td>TV</td>\n",
       "      <td>male</td>\n",
       "      <td>18-24</td>\n",
       "      <td>2013</td>\n",
       "      <td>northeast</td>\n",
       "      <td>5808930</td>\n",
       "    </tr>\n",
       "    <tr>\n",
       "      <th>1</th>\n",
       "      <td>TV</td>\n",
       "      <td>male</td>\n",
       "      <td>25-34</td>\n",
       "      <td>2013</td>\n",
       "      <td>northeast</td>\n",
       "      <td>8031355</td>\n",
       "    </tr>\n",
       "    <tr>\n",
       "      <th>2</th>\n",
       "      <td>TV</td>\n",
       "      <td>male</td>\n",
       "      <td>35-44</td>\n",
       "      <td>2013</td>\n",
       "      <td>northeast</td>\n",
       "      <td>8555839</td>\n",
       "    </tr>\n",
       "    <tr>\n",
       "      <th>3</th>\n",
       "      <td>TV</td>\n",
       "      <td>male</td>\n",
       "      <td>45-54</td>\n",
       "      <td>2013</td>\n",
       "      <td>northeast</td>\n",
       "      <td>7762506</td>\n",
       "    </tr>\n",
       "    <tr>\n",
       "      <th>4</th>\n",
       "      <td>TV</td>\n",
       "      <td>male</td>\n",
       "      <td>55+</td>\n",
       "      <td>2013</td>\n",
       "      <td>northeast</td>\n",
       "      <td>4188397</td>\n",
       "    </tr>\n",
       "  </tbody>\n",
       "</table>\n",
       "</div>"
      ],
      "text/plain": [
       "  category gender    age  year     region  population\n",
       "0       TV   male  18-24  2013  northeast     5808930\n",
       "1       TV   male  25-34  2013  northeast     8031355\n",
       "2       TV   male  35-44  2013  northeast     8555839\n",
       "3       TV   male  45-54  2013  northeast     7762506\n",
       "4       TV   male    55+  2013  northeast     4188397"
      ]
     },
     "execution_count": 7,
     "metadata": {},
     "output_type": "execute_result"
    }
   ],
   "source": [
    "test_df.head()"
   ]
  },
  {
   "cell_type": "code",
   "execution_count": 8,
   "metadata": {
    "collapsed": true
   },
   "outputs": [],
   "source": [
    "# Create the Schools_data class\n",
    "class Demography_table(Base):\n",
    "    __tablename__ = 'demography_table'\n",
    "    index = Column(Integer, primary_key = True)\n",
    "    Geography = Column(String(255))\n",
    "    Gender = Column(String(255))\n",
    "    age = Column(String(255))\n",
    "    population = Column(Float)\n",
    "    \n",
    "class Coordiate_table(Base):\n",
    "    __tablename__ = 'coordinate_table'\n",
    "    index = Column(Integer, primary_key = True)\n",
    "    State = Column(String(255))\n",
    "    Latitude = Column(Integer)\n",
    "    Longitude = Column(Integer)\n",
    "    City = Column(String(255))\n",
    "    \n",
    "class Test1_table(Base):\n",
    "    __tablename__ = 'test_table'\n",
    "    index = Column(Integer, primary_key = True)\n",
    "    category = Column(String(255))\n",
    "    gender = Column(String(255))\n",
    "    age = Column(String(255))\n",
    "    year = Column(Integer)\n",
    "    region = Column(String(255))\n",
    "    population = Column(Float)   "
   ]
  },
  {
   "cell_type": "code",
   "execution_count": 9,
   "metadata": {
    "collapsed": true
   },
   "outputs": [],
   "source": [
    "# Create the datbase and add the classes\n",
    "engine = create_engine(\"sqlite:///database.sqlite\", echo = False)\n",
    "conn = engine.connect()\n",
    "session = Session(engine)\n",
    "\n",
    "Base.metadata.create_all(conn)"
   ]
  },
  {
   "cell_type": "code",
   "execution_count": 10,
   "metadata": {
    "collapsed": true
   },
   "outputs": [],
   "source": [
    "# Send the station dataframe to the sqlite database\n",
    "dmgp_df.to_sql('demography_table', engine, if_exists='replace')\n",
    "coordinate_df.to_sql('coordinate_table', engine, if_exists='replace')\n",
    "test_df.to_sql('test1_table', engine, if_exists='replace')"
   ]
  }
 ],
 "metadata": {
  "kernelspec": {
   "display_name": "Python 3",
   "language": "python",
   "name": "python3"
  },
  "language_info": {
   "codemirror_mode": {
    "name": "ipython",
    "version": 3
   },
   "file_extension": ".py",
   "mimetype": "text/x-python",
   "name": "python",
   "nbconvert_exporter": "python",
   "pygments_lexer": "ipython3",
   "version": "3.6.3"
  }
 },
 "nbformat": 4,
 "nbformat_minor": 2
}
