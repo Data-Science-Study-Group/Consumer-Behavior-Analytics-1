{
 "cells": [
  {
   "cell_type": "code",
   "execution_count": 1,
   "metadata": {
    "collapsed": true
   },
   "outputs": [],
   "source": [
    "# Import dependencies\n",
    "import sqlite3\n",
    "import pandas as pd\n",
    "import numpy as np\n",
    "from numpy import nan"
   ]
  },
  {
   "cell_type": "code",
   "execution_count": 2,
   "metadata": {
    "collapsed": true
   },
   "outputs": [],
   "source": [
    "# Connect to database\n",
    "conn = sqlite3.connect('database.sqlite')"
   ]
  },
  {
   "cell_type": "code",
   "execution_count": 5,
   "metadata": {},
   "outputs": [
    {
     "data": {
      "text/html": [
       "<div>\n",
       "<style>\n",
       "    .dataframe thead tr:only-child th {\n",
       "        text-align: right;\n",
       "    }\n",
       "\n",
       "    .dataframe thead th {\n",
       "        text-align: left;\n",
       "    }\n",
       "\n",
       "    .dataframe tbody tr th {\n",
       "        vertical-align: top;\n",
       "    }\n",
       "</style>\n",
       "<table border=\"1\" class=\"dataframe\">\n",
       "  <thead>\n",
       "    <tr style=\"text-align: right;\">\n",
       "      <th></th>\n",
       "      <th>index</th>\n",
       "      <th>category</th>\n",
       "      <th>gender</th>\n",
       "      <th>age</th>\n",
       "      <th>year</th>\n",
       "      <th>division</th>\n",
       "      <th>population</th>\n",
       "    </tr>\n",
       "  </thead>\n",
       "  <tbody>\n",
       "    <tr>\n",
       "      <th>0</th>\n",
       "      <td>0</td>\n",
       "      <td>totals</td>\n",
       "      <td>Male</td>\n",
       "      <td>18-24</td>\n",
       "      <td>2013</td>\n",
       "      <td>east_central</td>\n",
       "      <td>27</td>\n",
       "    </tr>\n",
       "    <tr>\n",
       "      <th>1</th>\n",
       "      <td>0</td>\n",
       "      <td>totals</td>\n",
       "      <td>Male</td>\n",
       "      <td>18-24</td>\n",
       "      <td>2013</td>\n",
       "      <td>east_central</td>\n",
       "      <td>31</td>\n",
       "    </tr>\n",
       "    <tr>\n",
       "      <th>2</th>\n",
       "      <td>0</td>\n",
       "      <td>totals</td>\n",
       "      <td>Male</td>\n",
       "      <td>18-24</td>\n",
       "      <td>2013</td>\n",
       "      <td>east_central</td>\n",
       "      <td>55</td>\n",
       "    </tr>\n",
       "    <tr>\n",
       "      <th>3</th>\n",
       "      <td>0</td>\n",
       "      <td>totals</td>\n",
       "      <td>Male</td>\n",
       "      <td>18-24</td>\n",
       "      <td>2013</td>\n",
       "      <td>east_central</td>\n",
       "      <td>78</td>\n",
       "    </tr>\n",
       "    <tr>\n",
       "      <th>4</th>\n",
       "      <td>0</td>\n",
       "      <td>totals</td>\n",
       "      <td>Male</td>\n",
       "      <td>18-24</td>\n",
       "      <td>2014</td>\n",
       "      <td>east_central</td>\n",
       "      <td>54</td>\n",
       "    </tr>\n",
       "  </tbody>\n",
       "</table>\n",
       "</div>"
      ],
      "text/plain": [
       "   index category gender    age  year      division  population\n",
       "0      0   totals   Male  18-24  2013  east_central          27\n",
       "1      0   totals   Male  18-24  2013  east_central          31\n",
       "2      0   totals   Male  18-24  2013  east_central          55\n",
       "3      0   totals   Male  18-24  2013  east_central          78\n",
       "4      0   totals   Male  18-24  2014  east_central          54"
      ]
     },
     "execution_count": 5,
     "metadata": {},
     "output_type": "execute_result"
    }
   ],
   "source": [
    "# Read sqlite query results into a pandas DataFrame\n",
    "test_df = pd.read_sql_query(\"\"\"\n",
    "SELECT \n",
    "*\n",
    "FROM east_central_table\n",
    "\n",
    "union\n",
    "\n",
    "SELECT \n",
    "*\n",
    "FROM north_east_table\n",
    "\n",
    "union\n",
    "\n",
    "SELECT \n",
    "*\n",
    "FROM pacific_table\n",
    "\n",
    "union\n",
    "\n",
    "SELECT \n",
    "*\n",
    "FROM south_table\n",
    "\n",
    "union\n",
    "\n",
    "SELECT \n",
    "*\n",
    "FROM south_east_table\n",
    "\n",
    "union\n",
    "\n",
    "SELECT \n",
    "*\n",
    "FROM south_west_table\n",
    "\n",
    "union\n",
    "\n",
    "SELECT \n",
    "*\n",
    "FROM west_central_table\n",
    "\n",
    "\"\"\",conn)\n",
    "\n",
    "test_df.head()"
   ]
  },
  {
   "cell_type": "code",
   "execution_count": null,
   "metadata": {
    "collapsed": true
   },
   "outputs": [],
   "source": []
  }
 ],
 "metadata": {
  "kernelspec": {
   "display_name": "Python 3",
   "language": "python",
   "name": "python3"
  },
  "language_info": {
   "codemirror_mode": {
    "name": "ipython",
    "version": 3
   },
   "file_extension": ".py",
   "mimetype": "text/x-python",
   "name": "python",
   "nbconvert_exporter": "python",
   "pygments_lexer": "ipython3",
   "version": "3.6.3"
  }
 },
 "nbformat": 4,
 "nbformat_minor": 2
}
