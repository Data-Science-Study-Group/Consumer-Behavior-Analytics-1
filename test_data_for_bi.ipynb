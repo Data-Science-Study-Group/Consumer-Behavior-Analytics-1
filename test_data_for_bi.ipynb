{
 "cells": [
  {
   "cell_type": "code",
   "execution_count": 1,
   "metadata": {
    "collapsed": true
   },
   "outputs": [],
   "source": [
    "# Import dependencies\n",
    "import sqlite3\n",
    "import pandas as pd\n",
    "import numpy as np\n",
    "from numpy import nan"
   ]
  },
  {
   "cell_type": "code",
   "execution_count": 2,
   "metadata": {
    "collapsed": true
   },
   "outputs": [],
   "source": [
    "# Connect to database\n",
    "conn = sqlite3.connect('database.sqlite')"
   ]
  },
  {
   "cell_type": "code",
   "execution_count": 3,
   "metadata": {},
   "outputs": [
    {
     "ename": "NameError",
     "evalue": "name 'div_df' is not defined",
     "output_type": "error",
     "traceback": [
      "\u001b[1;31m---------------------------------------------------------------------------\u001b[0m",
      "\u001b[1;31mNameError\u001b[0m                                 Traceback (most recent call last)",
      "\u001b[1;32m<ipython-input-3-3d70bbe28f4d>\u001b[0m in \u001b[0;36m<module>\u001b[1;34m()\u001b[0m\n\u001b[0;32m     61\u001b[0m \u001b[1;33m\u001b[0m\u001b[0m\n\u001b[0;32m     62\u001b[0m \u001b[1;31m# Merge two dataframes along the division column\u001b[0m\u001b[1;33m\u001b[0m\u001b[1;33m\u001b[0m\u001b[0m\n\u001b[1;32m---> 63\u001b[1;33m \u001b[0mtest_df\u001b[0m \u001b[1;33m=\u001b[0m \u001b[0mpd\u001b[0m\u001b[1;33m.\u001b[0m\u001b[0mmerge\u001b[0m\u001b[1;33m(\u001b[0m\u001b[0mtest_df\u001b[0m\u001b[1;33m,\u001b[0m \u001b[0mdiv_df\u001b[0m\u001b[1;33m,\u001b[0m \u001b[0mon\u001b[0m\u001b[1;33m=\u001b[0m\u001b[1;34m'division'\u001b[0m\u001b[1;33m)\u001b[0m\u001b[1;33m\u001b[0m\u001b[0m\n\u001b[0m\u001b[0;32m     64\u001b[0m \u001b[1;33m\u001b[0m\u001b[0m\n\u001b[0;32m     65\u001b[0m \u001b[0mtest_df\u001b[0m\u001b[1;33m.\u001b[0m\u001b[0mhead\u001b[0m\u001b[1;33m(\u001b[0m\u001b[1;33m)\u001b[0m\u001b[1;33m\u001b[0m\u001b[0m\n",
      "\u001b[1;31mNameError\u001b[0m: name 'div_df' is not defined"
     ]
    }
   ],
   "source": [
    "# Read sqlite query results into a pandas DataFrame\n",
    "test_df = pd.read_sql_query(\"\"\"\n",
    "SELECT \n",
    "*\n",
    "FROM east_central_table\n",
    "\n",
    "where category not in ('totals')\n",
    "\n",
    "union\n",
    "\n",
    "SELECT \n",
    "*\n",
    "FROM north_east_table\n",
    "\n",
    "where category not in ('totals')\n",
    "\n",
    "union\n",
    "\n",
    "SELECT \n",
    "*\n",
    "FROM pacific_table\n",
    "\n",
    "where category not in ('totals')\n",
    "\n",
    "union\n",
    "\n",
    "SELECT \n",
    "*\n",
    "FROM south_table\n",
    "\n",
    "where category not in ('totals')\n",
    "\n",
    "union\n",
    "\n",
    "SELECT \n",
    "*\n",
    "FROM south_east_table\n",
    "\n",
    "where category not in ('totals')\n",
    "\n",
    "union\n",
    "\n",
    "SELECT \n",
    "*\n",
    "FROM south_west_table\n",
    "\n",
    "where category not in ('totals')\n",
    "\n",
    "union\n",
    "\n",
    "SELECT \n",
    "*\n",
    "FROM west_central_table\n",
    "\n",
    "where category not in ('totals')\n",
    "\n",
    "\"\"\",conn)\n",
    "\n",
    "# Drop na and first 3 columns\n",
    "test_df = test_df.drop(test_df.columns[[0]], axis=1)\n",
    "\n",
    "# Merge two dataframes along the division column\n",
    "test_df = pd.merge(test_df, div_df, on='division')\n",
    "\n",
    "test_df.head()"
   ]
  },
  {
   "cell_type": "code",
   "execution_count": null,
   "metadata": {
    "collapsed": true
   },
   "outputs": [],
   "source": [
    "# Save clean data to csv\n",
    "test_df.to_csv('test_data/test_data.csv', index = False)"
   ]
  }
 ],
 "metadata": {
  "kernelspec": {
   "display_name": "Python 3",
   "language": "python",
   "name": "python3"
  },
  "language_info": {
   "codemirror_mode": {
    "name": "ipython",
    "version": 3
   },
   "file_extension": ".py",
   "mimetype": "text/x-python",
   "name": "python",
   "nbconvert_exporter": "python",
   "pygments_lexer": "ipython3",
   "version": "3.6.3"
  }
 },
 "nbformat": 4,
 "nbformat_minor": 2
}
