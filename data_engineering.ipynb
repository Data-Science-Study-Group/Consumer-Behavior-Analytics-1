{
 "cells": [
  {
   "cell_type": "code",
   "execution_count": 1,
   "metadata": {
    "collapsed": true
   },
   "outputs": [],
   "source": [
    "# Ddd dependencies\n",
    "import pandas as pd\n",
    "import numpy as np"
   ]
  },
  {
   "cell_type": "markdown",
   "metadata": {},
   "source": [
    "# Create Combined Data Frame for East Central Division 2013 - 2017"
   ]
  },
  {
   "cell_type": "code",
   "execution_count": 2,
   "metadata": {},
   "outputs": [
    {
     "data": {
      "text/html": [
       "<div>\n",
       "<style>\n",
       "    .dataframe thead tr:only-child th {\n",
       "        text-align: right;\n",
       "    }\n",
       "\n",
       "    .dataframe thead th {\n",
       "        text-align: left;\n",
       "    }\n",
       "\n",
       "    .dataframe tbody tr th {\n",
       "        vertical-align: top;\n",
       "    }\n",
       "</style>\n",
       "<table border=\"1\" class=\"dataframe\">\n",
       "  <thead>\n",
       "    <tr style=\"text-align: right;\">\n",
       "      <th></th>\n",
       "      <th>Category</th>\n",
       "      <th>Gender</th>\n",
       "      <th>Age</th>\n",
       "      <th>Year</th>\n",
       "      <th>Division</th>\n",
       "      <th>Population</th>\n",
       "    </tr>\n",
       "  </thead>\n",
       "  <tbody>\n",
       "  </tbody>\n",
       "</table>\n",
       "</div>"
      ],
      "text/plain": [
       "Empty DataFrame\n",
       "Columns: [Category, Gender, Age, Year, Division, Population]\n",
       "Index: []"
      ]
     },
     "execution_count": 2,
     "metadata": {},
     "output_type": "execute_result"
    }
   ],
   "source": [
    "# Creat header\n",
    "clean_ec_data = pd.DataFrame(columns=['Category','Gender','Age','Year','Division','Population'])\n",
    "\n",
    "clean_ec_data"
   ]
  },
  {
   "cell_type": "code",
   "execution_count": 3,
   "metadata": {},
   "outputs": [
    {
     "name": "stdout",
     "output_type": "stream",
     "text": [
      "2013 data finished\n",
      "2014 data finished\n",
      "2015 data finished\n",
      "2016 data finished\n",
      "2017 data finished\n"
     ]
    },
    {
     "data": {
      "text/html": [
       "<div>\n",
       "<style>\n",
       "    .dataframe thead tr:only-child th {\n",
       "        text-align: right;\n",
       "    }\n",
       "\n",
       "    .dataframe thead th {\n",
       "        text-align: left;\n",
       "    }\n",
       "\n",
       "    .dataframe tbody tr th {\n",
       "        vertical-align: top;\n",
       "    }\n",
       "</style>\n",
       "<table border=\"1\" class=\"dataframe\">\n",
       "  <thead>\n",
       "    <tr style=\"text-align: right;\">\n",
       "      <th></th>\n",
       "      <th>Category</th>\n",
       "      <th>Gender</th>\n",
       "      <th>Age</th>\n",
       "      <th>Year</th>\n",
       "      <th>Division</th>\n",
       "      <th>Population</th>\n",
       "    </tr>\n",
       "  </thead>\n",
       "  <tbody>\n",
       "    <tr>\n",
       "      <th>0</th>\n",
       "      <td>totals</td>\n",
       "      <td>Male</td>\n",
       "      <td>28-24</td>\n",
       "      <td>2013</td>\n",
       "      <td>east_central</td>\n",
       "      <td>31</td>\n",
       "    </tr>\n",
       "    <tr>\n",
       "      <th>1</th>\n",
       "      <td>totals</td>\n",
       "      <td>Male</td>\n",
       "      <td>25-34</td>\n",
       "      <td>2013</td>\n",
       "      <td>east_central</td>\n",
       "      <td>51</td>\n",
       "    </tr>\n",
       "    <tr>\n",
       "      <th>2</th>\n",
       "      <td>totals</td>\n",
       "      <td>Male</td>\n",
       "      <td>35-44</td>\n",
       "      <td>2013</td>\n",
       "      <td>east_central</td>\n",
       "      <td>71</td>\n",
       "    </tr>\n",
       "    <tr>\n",
       "      <th>3</th>\n",
       "      <td>totals</td>\n",
       "      <td>Male</td>\n",
       "      <td>45-54</td>\n",
       "      <td>2013</td>\n",
       "      <td>east_central</td>\n",
       "      <td>64</td>\n",
       "    </tr>\n",
       "    <tr>\n",
       "      <th>4</th>\n",
       "      <td>totals</td>\n",
       "      <td>Male</td>\n",
       "      <td>55+</td>\n",
       "      <td>2013</td>\n",
       "      <td>east_central</td>\n",
       "      <td>78</td>\n",
       "    </tr>\n",
       "  </tbody>\n",
       "</table>\n",
       "</div>"
      ],
      "text/plain": [
       "  Category Gender    Age  Year      Division Population\n",
       "0   totals   Male  28-24  2013  east_central         31\n",
       "1   totals   Male  25-34  2013  east_central         51\n",
       "2   totals   Male  35-44  2013  east_central         71\n",
       "3   totals   Male  45-54  2013  east_central         64\n",
       "4   totals   Male    55+  2013  east_central         78"
      ]
     },
     "execution_count": 3,
     "metadata": {},
     "output_type": "execute_result"
    }
   ],
   "source": [
    "# Loop thru 2013 - 2017 data and create combined data frame\n",
    "for year in [2013,2014,2015,2016,2017]:\n",
    "    raw_data_ec = pd.read_csv(\"raw_data/East Central Data/Movie Purchaser Behavior EC {}.csv\".format(year),skiprows=1)\n",
    "      \n",
    "    # Drop na and first 3 columns\n",
    "    raw_data_ec = raw_data_ec.dropna().drop(raw_data_ec.columns[[1, 2, 3]], axis=1)\n",
    "#raw_data_ec\n",
    "  \n",
    "    # Replace ' ' with \"_\" in category column and create a list for category \n",
    "    cat = list(i.strip().replace(' ','_').lower() for i in list(raw_data_ec.iloc[:,0]))\n",
    "    # print(\"{} cat: {}\".format(year,cat))\n",
    "\n",
    "    # Create a list for population in each category\n",
    "    pop_list = []\n",
    "    for index, row in raw_data_ec.iterrows():\n",
    "        pop_list += [int(row[5])] +  [int(row[8])]\\\n",
    "                    + [int(row[11])] + [int(row[14])]\\\n",
    "                    + [int(row[17])]+ [int(row[6])]\\\n",
    "                    + [int(row[9])] + [int(row[12])]\\\n",
    "                    + [int(row[15])]+ [int(row[18])]\n",
    "\n",
    "    # clean data table\n",
    "    clean_df = pd.DataFrame(columns=['Category','Gender','Age','Year','Division','Population'])\n",
    "    cat_list = []\n",
    "    for i in cat:\n",
    "        cat_list += [i]*10\n",
    "    clean_df[\"Category\"] = cat_list\n",
    "    clean_df['Gender'] = (['Male']*5+['Female']*5)*len(cat)\n",
    "    clean_df['Age'] = ['28-24','25-34','35-44','45-54','55+']*2*len(cat)\n",
    "    clean_df['Year'] = [year]*len(cat)*10\n",
    "    clean_df['Division'] = ['east_central']*len(cat)*10\n",
    "    clean_df['Population'] = pop_list\n",
    "    clean_ec_data = pd.concat([clean_ec_data,clean_df], ignore_index=True)\n",
    "    print (\"{} data finished\".format(year))\n",
    "clean_ec_data.head()"
   ]
  },
  {
   "cell_type": "markdown",
   "metadata": {},
   "source": [
    "# Feature Engineering"
   ]
  },
  {
   "cell_type": "code",
   "execution_count": 4,
   "metadata": {},
   "outputs": [
    {
     "data": {
      "text/plain": [
       "{'all_live_theater/concerts/dance-attended_last_12_months': '8',\n",
       " 'digital_music': '10',\n",
       " 'magazine': '4',\n",
       " 'movie_goers': '5',\n",
       " 'radio': '3',\n",
       " 'social_media_[social_media_user]': '9',\n",
       " 'streaming_video': '11',\n",
       " 'supermarket_goer_last_4_weeks': '6',\n",
       " 'tablet_owner': '7',\n",
       " 'totals': '0',\n",
       " 'tv': '2',\n",
       " 'video_game': '1'}"
      ]
     },
     "execution_count": 4,
     "metadata": {},
     "output_type": "execute_result"
    }
   ],
   "source": [
    "# Convert category names to index\n",
    "cat_list = list(clean_ec_data.Category.unique())\n",
    "cat_dict = dict(zip(cat_list,[str(i) for i in range(0,len(cat_list))]))\n",
    "cat_dict"
   ]
  },
  {
   "cell_type": "code",
   "execution_count": 5,
   "metadata": {},
   "outputs": [
    {
     "data": {
      "text/html": [
       "<div>\n",
       "<style>\n",
       "    .dataframe thead tr:only-child th {\n",
       "        text-align: right;\n",
       "    }\n",
       "\n",
       "    .dataframe thead th {\n",
       "        text-align: left;\n",
       "    }\n",
       "\n",
       "    .dataframe tbody tr th {\n",
       "        vertical-align: top;\n",
       "    }\n",
       "</style>\n",
       "<table border=\"1\" class=\"dataframe\">\n",
       "  <thead>\n",
       "    <tr style=\"text-align: right;\">\n",
       "      <th></th>\n",
       "      <th>Category</th>\n",
       "      <th>Gender</th>\n",
       "      <th>Age</th>\n",
       "      <th>Year</th>\n",
       "      <th>Division</th>\n",
       "      <th>Population</th>\n",
       "    </tr>\n",
       "  </thead>\n",
       "  <tbody>\n",
       "    <tr>\n",
       "      <th>0</th>\n",
       "      <td>0</td>\n",
       "      <td>Male</td>\n",
       "      <td>28-24</td>\n",
       "      <td>2013</td>\n",
       "      <td>east_central</td>\n",
       "      <td>31</td>\n",
       "    </tr>\n",
       "    <tr>\n",
       "      <th>1</th>\n",
       "      <td>0</td>\n",
       "      <td>Male</td>\n",
       "      <td>25-34</td>\n",
       "      <td>2013</td>\n",
       "      <td>east_central</td>\n",
       "      <td>51</td>\n",
       "    </tr>\n",
       "    <tr>\n",
       "      <th>2</th>\n",
       "      <td>0</td>\n",
       "      <td>Male</td>\n",
       "      <td>35-44</td>\n",
       "      <td>2013</td>\n",
       "      <td>east_central</td>\n",
       "      <td>71</td>\n",
       "    </tr>\n",
       "    <tr>\n",
       "      <th>3</th>\n",
       "      <td>0</td>\n",
       "      <td>Male</td>\n",
       "      <td>45-54</td>\n",
       "      <td>2013</td>\n",
       "      <td>east_central</td>\n",
       "      <td>64</td>\n",
       "    </tr>\n",
       "    <tr>\n",
       "      <th>4</th>\n",
       "      <td>0</td>\n",
       "      <td>Male</td>\n",
       "      <td>55+</td>\n",
       "      <td>2013</td>\n",
       "      <td>east_central</td>\n",
       "      <td>78</td>\n",
       "    </tr>\n",
       "  </tbody>\n",
       "</table>\n",
       "</div>"
      ],
      "text/plain": [
       "  Category Gender    Age  Year      Division Population\n",
       "0        0   Male  28-24  2013  east_central         31\n",
       "1        0   Male  25-34  2013  east_central         51\n",
       "2        0   Male  35-44  2013  east_central         71\n",
       "3        0   Male  45-54  2013  east_central         64\n",
       "4        0   Male    55+  2013  east_central         78"
      ]
     },
     "execution_count": 5,
     "metadata": {},
     "output_type": "execute_result"
    }
   ],
   "source": [
    "# Encode category name\n",
    "for index, row in clean_ec_data.iterrows():\n",
    "    row[0] = cat_dict[row[0]]\n",
    "clean_ec_data.head()"
   ]
  },
  {
   "cell_type": "code",
   "execution_count": 6,
   "metadata": {
    "collapsed": true
   },
   "outputs": [],
   "source": [
    "clean_ec_data.to_csv('clean_data\\clean_all_year_EC_withIndex.csv', index = False)"
   ]
  }
 ],
 "metadata": {
  "kernelspec": {
   "display_name": "Python 3",
   "language": "python",
   "name": "python3"
  },
  "language_info": {
   "codemirror_mode": {
    "name": "ipython",
    "version": 3
   },
   "file_extension": ".py",
   "mimetype": "text/x-python",
   "name": "python",
   "nbconvert_exporter": "python",
   "pygments_lexer": "ipython3",
   "version": "3.6.3"
  }
 },
 "nbformat": 4,
 "nbformat_minor": 2
}
